{
 "cells": [
  {
   "cell_type": "markdown",
   "id": "f698ba6e-9a8f-4723-b1d4-64131a250723",
   "metadata": {},
   "source": [
    "Q2) Explain GET and POST methods."
   ]
  },
  {
   "cell_type": "markdown",
   "id": "5e265a50-bf74-4344-ad74-b7e51258c32b",
   "metadata": {},
   "source": [
    "Ans) \n",
    " GET Method:\n",
    "GET is an HTTP method used to request data from a specified resource.\n",
    "Request Parameters: Data is sent via URL parameters in the form of key-value pairs appended to the URL after a '?' (query string).\n",
    "Visibility: Parameters are visible in the URL, making it suitable for non-sensitive data.\n",
    "Caching: GET requests can be cached by browsers and proxies, making them suitable for retrieval operations where data is not modified.\n",
    "\n",
    "POST Method:\n",
    "POST is an HTTP method used to send data to a server to create or update a resource.\n",
    "Request Parameters: Data is sent in the body of the request, not visible in the URL, making it suitable for sensitive or large amounts of data.\n",
    "Security: POST requests provide more security for sensitive data as they are not visible in the URL.\n",
    "Data Modification: POST requests are not cached, suitable for operations that modify data on the server."
   ]
  },
  {
   "cell_type": "markdown",
   "id": "03aae17d-52a8-4438-a153-6a747ce8c294",
   "metadata": {},
   "source": [
    "Q2) Why is request used in Flask?"
   ]
  },
  {
   "cell_type": "markdown",
   "id": "69a32fd4-df36-4a78-acd2-9bdc3304517a",
   "metadata": {},
   "source": [
    "Ans) \n",
    "In Flask, a request object is used to access incoming request data sent by a client to the server. It encapsulates various details and information about the client's HTTP request, allowing the Flask application to access and process this data."
   ]
  },
  {
   "cell_type": "markdown",
   "id": "5e0029d4-cc4f-4242-a224-b368c6824ec5",
   "metadata": {},
   "source": [
    "Q3) Why is redirect() used in Flask?"
   ]
  },
  {
   "cell_type": "markdown",
   "id": "f9bf7c15-0e26-432e-ac70-0d47bb6734d8",
   "metadata": {},
   "source": [
    "Ans) \n",
    "In Flask, the redirect() function is used to perform a redirection to a different URL or route within a web application. It's a convenient way to navigate users from one endpoint to another, either within the same application or to an external URL."
   ]
  },
  {
   "cell_type": "markdown",
   "id": "c316c1a4-8dcc-4783-bd47-3da5ab974870",
   "metadata": {},
   "source": [
    "Q4) What are templates in Flask? Why is the render_template() function used?"
   ]
  },
  {
   "cell_type": "markdown",
   "id": "cdced3b6-1c62-4cab-8f3f-053051260e9f",
   "metadata": {},
   "source": [
    "Ans) \n",
    "In Flask, templates are files that contain the structure and layout of HTML pages along with placeholders for dynamic content. They allow developers to create reusable and consistent layouts for web pages, separating the presentation logic from the application's code.\n",
    "\n",
    "Purpose of Templates in Flask:\n",
    "\n",
    ". Separation of Concerns\n",
    "\n",
    ". Reusable Layouts\n",
    "\n",
    ". Dynamic Content Insertion\n",
    "\n",
    ". Placeholder Insertion\n",
    "\n",
    ". Data Rendering"
   ]
  },
  {
   "cell_type": "code",
   "execution_count": null,
   "id": "bf81cb43-3d62-4dc4-8768-61f281320e0d",
   "metadata": {},
   "outputs": [],
   "source": []
  }
 ],
 "metadata": {
  "kernelspec": {
   "display_name": "Python 3 (ipykernel)",
   "language": "python",
   "name": "python3"
  },
  "language_info": {
   "codemirror_mode": {
    "name": "ipython",
    "version": 3
   },
   "file_extension": ".py",
   "mimetype": "text/x-python",
   "name": "python",
   "nbconvert_exporter": "python",
   "pygments_lexer": "ipython3",
   "version": "3.10.8"
  }
 },
 "nbformat": 4,
 "nbformat_minor": 5
}
